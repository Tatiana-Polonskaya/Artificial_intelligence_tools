{
  "nbformat": 4,
  "nbformat_minor": 0,
  "metadata": {
    "colab": {
      "provenance": []
    },
    "kernelspec": {
      "name": "python3",
      "display_name": "Python 3"
    },
    "language_info": {
      "name": "python"
    }
  },
  "cells": [
    {
      "cell_type": "code",
      "execution_count": 1,
      "metadata": {
        "id": "IruTCoPaOTpQ"
      },
      "outputs": [],
      "source": [
        "import numpy as np\n",
        "import random\n",
        "import datetime"
      ]
    },
    {
      "cell_type": "code",
      "source": [],
      "metadata": {
        "id": "mEW7V8r7OY8X"
      },
      "execution_count": null,
      "outputs": []
    },
    {
      "cell_type": "markdown",
      "source": [
        "### Генерация линейного массива (вектора) чисел с плавающей точкой произвольного размера"
      ],
      "metadata": {
        "id": "63bxxEsXP_bt"
      }
    },
    {
      "cell_type": "code",
      "source": [
        "start = datetime.datetime.now()\n",
        "np.random.random(15)\n",
        "end = datetime.datetime.now()\n",
        "print(end-start)"
      ],
      "metadata": {
        "colab": {
          "base_uri": "https://localhost:8080/"
        },
        "id": "TrujhBVQR8aN",
        "outputId": "a0bdf23b-b325-432c-ac36-60cdbc0c586c"
      },
      "execution_count": null,
      "outputs": [
        {
          "output_type": "stream",
          "name": "stdout",
          "text": [
            "0:00:00.000179\n"
          ]
        }
      ]
    },
    {
      "cell_type": "markdown",
      "source": [
        "## Генерация двумерного массива (матрицы) чисел с плавающей точкой произвольного размера"
      ],
      "metadata": {
        "id": "O1Hm77htUTg4"
      }
    },
    {
      "cell_type": "code",
      "source": [
        "start = datetime.datetime.now()\n",
        "np.random.random((2,15))\n",
        "end = datetime.datetime.now()\n",
        "print(end-start)"
      ],
      "metadata": {
        "colab": {
          "base_uri": "https://localhost:8080/"
        },
        "id": "qlYsELwfSjGS",
        "outputId": "f163a859-afd2-4fd2-dd91-5fa92b4f0c52"
      },
      "execution_count": null,
      "outputs": [
        {
          "output_type": "stream",
          "name": "stdout",
          "text": [
            "0:00:00.000113\n"
          ]
        }
      ]
    },
    {
      "cell_type": "markdown",
      "source": [
        "## Генерацию массивов с размерностью в сотни, тысячи, сотни тысяч элементов"
      ],
      "metadata": {
        "id": "RFbE3ynrUYz4"
      }
    },
    {
      "cell_type": "code",
      "source": [
        "counts = [100,1000,10000,100000]\n",
        "\n",
        "for count in counts:\n",
        "\n",
        "    start = datetime.datetime.now()\n",
        "    np.random.random(count)\n",
        "    end = datetime.datetime.now()\n",
        "    print(count,' элементов. потраченное время:',end-start)\n"
      ],
      "metadata": {
        "colab": {
          "base_uri": "https://localhost:8080/"
        },
        "id": "p5UZs25jSw47",
        "outputId": "30b54715-ea75-4715-c35f-eb89fbd62573"
      },
      "execution_count": null,
      "outputs": [
        {
          "output_type": "stream",
          "name": "stdout",
          "text": [
            "100  элементов. потраченное время: 0:00:00.000063\n",
            "1000  элементов. потраченное время: 0:00:00.000438\n",
            "10000  элементов. потраченное время: 0:00:00.000124\n",
            "100000  элементов. потраченное время: 0:00:00.000631\n"
          ]
        }
      ]
    },
    {
      "cell_type": "markdown",
      "source": [
        "## Массивы, генерируемыми средствами стандартной библиотеки языка Python аналогичной размерности"
      ],
      "metadata": {
        "id": "r2iTgOHJUgRR"
      }
    },
    {
      "cell_type": "markdown",
      "source": [
        "Одномерный массив"
      ],
      "metadata": {
        "id": "NWpRUQ5GVCxQ"
      }
    },
    {
      "cell_type": "code",
      "source": [
        "start = datetime.datetime.now()\n",
        "\n",
        "arr =[random.random() for j in range(15)]\n",
        "\n",
        "end = datetime.datetime.now()\n",
        "print(end-start)"
      ],
      "metadata": {
        "colab": {
          "base_uri": "https://localhost:8080/"
        },
        "id": "R0C66u5MPbcr",
        "outputId": "cee2a68b-789f-4484-d384-73e77b352153"
      },
      "execution_count": null,
      "outputs": [
        {
          "output_type": "stream",
          "name": "stdout",
          "text": [
            "0:00:00.000121\n"
          ]
        }
      ]
    },
    {
      "cell_type": "markdown",
      "source": [
        "Двумерный массив"
      ],
      "metadata": {
        "id": "2m11WMo3VGC3"
      }
    },
    {
      "cell_type": "code",
      "source": [
        "start = datetime.datetime.now()\n",
        "arr = [[random.random() for j in range(15)] for i in range(2)]\n",
        "end = datetime.datetime.now()\n",
        "print(end-start)"
      ],
      "metadata": {
        "colab": {
          "base_uri": "https://localhost:8080/"
        },
        "id": "9phCn20RUwQ2",
        "outputId": "4e825cd3-4cc9-43eb-dcd8-edb599081b1c"
      },
      "execution_count": null,
      "outputs": [
        {
          "output_type": "stream",
          "name": "stdout",
          "text": [
            "0:00:00.000117\n"
          ]
        }
      ]
    },
    {
      "cell_type": "markdown",
      "source": [
        " Массивы с размерностью в сотни, тысячи, сотни тысяч элементов"
      ],
      "metadata": {
        "id": "a3y9k6f4VUGx"
      }
    },
    {
      "cell_type": "code",
      "source": [
        "counts = [100,1000,10000,100000]\n",
        "\n",
        "for count in counts:\n",
        "    start = datetime.datetime.now()\n",
        "    arr = [random.random() for j in range(count)]\n",
        "    end = datetime.datetime.now()\n",
        "    print(count,' элементов. потраченное время:',end-start)"
      ],
      "metadata": {
        "colab": {
          "base_uri": "https://localhost:8080/"
        },
        "id": "RTcWp5XoUwTc",
        "outputId": "064797c9-1c60-4263-b4c0-813a6483f9f2"
      },
      "execution_count": null,
      "outputs": [
        {
          "output_type": "stream",
          "name": "stdout",
          "text": [
            "100  элементов. потраченное время: 0:00:00.000031\n",
            "1000  элементов. потраченное время: 0:00:00.000137\n",
            "10000  элементов. потраченное время: 0:00:00.001521\n",
            "100000  элементов. потраченное время: 0:00:00.011611\n"
          ]
        }
      ]
    },
    {
      "cell_type": "markdown",
      "source": [
        "## Арифметические операции над элементами двумерного массива."
      ],
      "metadata": {
        "id": "dqeNJzAGVpve"
      }
    },
    {
      "cell_type": "code",
      "source": [
        "array_1 = np.array([[np.random.randint(100) for i in range(15)]  for j in range(2)])\n",
        "array_2 = np.array([[np.random.randint(100) for i in range(15)]  for j in range(2)])"
      ],
      "metadata": {
        "id": "nZ4ITKoFUwVt"
      },
      "execution_count": null,
      "outputs": []
    },
    {
      "cell_type": "code",
      "source": [
        "array_1"
      ],
      "metadata": {
        "colab": {
          "base_uri": "https://localhost:8080/"
        },
        "id": "UE9djVejVyJq",
        "outputId": "48cd33ac-c855-4818-cfb7-f929035b53e2"
      },
      "execution_count": null,
      "outputs": [
        {
          "output_type": "execute_result",
          "data": {
            "text/plain": [
              "array([[40, 85, 81, 42, 62,  7, 27, 91, 50, 33, 35, 16, 70, 91, 57],\n",
              "       [36, 50,  5, 86, 62, 23, 94, 24, 55, 90, 31, 10, 57, 86,  7]])"
            ]
          },
          "metadata": {},
          "execution_count": 58
        }
      ]
    },
    {
      "cell_type": "code",
      "source": [
        "array_2"
      ],
      "metadata": {
        "colab": {
          "base_uri": "https://localhost:8080/"
        },
        "id": "Za5_NhYyWYhL",
        "outputId": "b5698714-6999-4a16-eb73-bbd1acdec572"
      },
      "execution_count": null,
      "outputs": [
        {
          "output_type": "execute_result",
          "data": {
            "text/plain": [
              "array([[18, 83, 18, 20, 23, 15, 77, 42, 52,  0,  5, 61, 55,  4, 18],\n",
              "       [22, 75, 97, 90, 18, 41, 70, 72, 16, 41, 45, 52, 18, 40, 24]])"
            ]
          },
          "metadata": {},
          "execution_count": 59
        }
      ]
    },
    {
      "cell_type": "code",
      "source": [
        "array_1 - array_2"
      ],
      "metadata": {
        "colab": {
          "base_uri": "https://localhost:8080/"
        },
        "id": "7-ESkDEGVy3y",
        "outputId": "6fd5d137-86f9-4947-e580-1c23fb6d2d6e"
      },
      "execution_count": null,
      "outputs": [
        {
          "output_type": "execute_result",
          "data": {
            "text/plain": [
              "array([[ 22,   2,  63,  22,  39,  -8, -50,  49,  -2,  33,  30, -45,  15,\n",
              "         87,  39],\n",
              "       [ 14, -25, -92,  -4,  44, -18,  24, -48,  39,  49, -14, -42,  39,\n",
              "         46, -17]])"
            ]
          },
          "metadata": {},
          "execution_count": 60
        }
      ]
    },
    {
      "cell_type": "code",
      "source": [
        "array_1 + array_2"
      ],
      "metadata": {
        "colab": {
          "base_uri": "https://localhost:8080/"
        },
        "id": "wx0SP_w_Waj-",
        "outputId": "b496bd85-7f91-4ff5-82ca-4e765dd6b394"
      },
      "execution_count": null,
      "outputs": [
        {
          "output_type": "execute_result",
          "data": {
            "text/plain": [
              "array([[ 58, 168,  99,  62,  85,  22, 104, 133, 102,  33,  40,  77, 125,\n",
              "         95,  75],\n",
              "       [ 58, 125, 102, 176,  80,  64, 164,  96,  71, 131,  76,  62,  75,\n",
              "        126,  31]])"
            ]
          },
          "metadata": {},
          "execution_count": 61
        }
      ]
    },
    {
      "cell_type": "code",
      "source": [
        "array_1 * array_2"
      ],
      "metadata": {
        "colab": {
          "base_uri": "https://localhost:8080/"
        },
        "id": "IJaUy06iWcF_",
        "outputId": "2c6a7fd3-380e-448e-c458-08f99172a4e7"
      },
      "execution_count": null,
      "outputs": [
        {
          "output_type": "execute_result",
          "data": {
            "text/plain": [
              "array([[ 720, 7055, 1458,  840, 1426,  105, 2079, 3822, 2600,    0,  175,\n",
              "         976, 3850,  364, 1026],\n",
              "       [ 792, 3750,  485, 7740, 1116,  943, 6580, 1728,  880, 3690, 1395,\n",
              "         520, 1026, 3440,  168]])"
            ]
          },
          "metadata": {},
          "execution_count": 62
        }
      ]
    },
    {
      "cell_type": "code",
      "source": [
        "array_1 // array_2 "
      ],
      "metadata": {
        "colab": {
          "base_uri": "https://localhost:8080/"
        },
        "id": "6Dkbg0MQW_Vw",
        "outputId": "72ef62ea-5047-478b-9dfa-52c1752bdee8"
      },
      "execution_count": null,
      "outputs": [
        {
          "output_type": "stream",
          "name": "stderr",
          "text": [
            "<ipython-input-63-ea17e297ef39>:1: RuntimeWarning: divide by zero encountered in floor_divide\n",
            "  array_1 // array_2\n"
          ]
        },
        {
          "output_type": "execute_result",
          "data": {
            "text/plain": [
              "array([[ 2,  1,  4,  2,  2,  0,  0,  2,  0,  0,  7,  0,  1, 22,  3],\n",
              "       [ 1,  0,  0,  0,  3,  0,  1,  0,  3,  2,  0,  0,  3,  2,  0]])"
            ]
          },
          "metadata": {},
          "execution_count": 63
        }
      ]
    },
    {
      "cell_type": "code",
      "source": [
        "array_1 % array_2 "
      ],
      "metadata": {
        "colab": {
          "base_uri": "https://localhost:8080/"
        },
        "id": "srDwWd5oW_Yn",
        "outputId": "45a9ce4e-56f2-4184-b1a1-ef9a71229b9b"
      },
      "execution_count": null,
      "outputs": [
        {
          "output_type": "stream",
          "name": "stderr",
          "text": [
            "<ipython-input-64-6947381bbfe5>:1: RuntimeWarning: divide by zero encountered in remainder\n",
            "  array_1 % array_2\n"
          ]
        },
        {
          "output_type": "execute_result",
          "data": {
            "text/plain": [
              "array([[ 4,  2,  9,  2, 16,  7, 27,  7, 50,  0,  0, 16, 15,  3,  3],\n",
              "       [14, 50,  5, 86,  8, 23, 24, 24,  7,  8, 31, 10,  3,  6,  7]])"
            ]
          },
          "metadata": {},
          "execution_count": 64
        }
      ]
    },
    {
      "cell_type": "markdown",
      "source": [
        "\n",
        "# Игра \"Жизнь\""
      ],
      "metadata": {
        "id": "LUe4WAddXJB4"
      }
    },
    {
      "cell_type": "code",
      "source": [
        "import seaborn as sns; sns.set()\n",
        "import matplotlib.pyplot as plt"
      ],
      "metadata": {
        "id": "_rWZOvnXZaCi"
      },
      "execution_count": 61,
      "outputs": []
    },
    {
      "cell_type": "markdown",
      "source": [
        "Правила:\n",
        "\n",
        "живая клетка - 1 \n",
        "\n",
        "мертвая - 0"
      ],
      "metadata": {
        "id": "9mqhQ0ibFSPp"
      }
    },
    {
      "cell_type": "code",
      "source": [
        "def create_start_map():\n",
        "    map = np.zeros((10,10))\n",
        "\n",
        "    # стартовый шаблон - космический корабль \n",
        "    planer = np.array([[0,1,0],\n",
        "              [0,0,1],\n",
        "              [1,1,1]])\n",
        "    for i in range(3):\n",
        "        for j in range(3):\n",
        "            map[i][j]+=planer[i][j]\n",
        "    return map"
      ],
      "metadata": {
        "id": "aCrxujo7XhKE"
      },
      "execution_count": 49,
      "outputs": []
    },
    {
      "cell_type": "code",
      "source": [
        "map = create_start_map()\n",
        "map"
      ],
      "metadata": {
        "id": "Ywaa4Sq8W_b3",
        "colab": {
          "base_uri": "https://localhost:8080/"
        },
        "outputId": "7ade35f9-7ed9-4461-9c52-d665dadd98d0"
      },
      "execution_count": 66,
      "outputs": [
        {
          "output_type": "execute_result",
          "data": {
            "text/plain": [
              "array([[0., 1., 0., 0., 0., 0., 0., 0., 0., 0.],\n",
              "       [0., 0., 1., 0., 0., 0., 0., 0., 0., 0.],\n",
              "       [1., 1., 1., 0., 0., 0., 0., 0., 0., 0.],\n",
              "       [0., 0., 0., 0., 0., 0., 0., 0., 0., 0.],\n",
              "       [0., 0., 0., 0., 0., 0., 0., 0., 0., 0.],\n",
              "       [0., 0., 0., 0., 0., 0., 0., 0., 0., 0.],\n",
              "       [0., 0., 0., 0., 0., 0., 0., 0., 0., 0.],\n",
              "       [0., 0., 0., 0., 0., 0., 0., 0., 0., 0.],\n",
              "       [0., 0., 0., 0., 0., 0., 0., 0., 0., 0.],\n",
              "       [0., 0., 0., 0., 0., 0., 0., 0., 0., 0.]])"
            ]
          },
          "metadata": {},
          "execution_count": 66
        }
      ]
    },
    {
      "cell_type": "code",
      "source": [
        "def check_count_neighbors(state, counts):\n",
        "    new_state = 0\n",
        "    if(((counts==2) or (counts==3)) and (state == 1)) :\n",
        "        new_state = 1\n",
        "    elif ((counts==3) and (state == 0)):\n",
        "        new_state = 1\n",
        "    else:\n",
        "        new_state = 0 \n",
        "    return new_state \n",
        "\n",
        "def step(map):\n",
        "\n",
        "    n = len(map)\n",
        "    new_map = np.zeros((n,n))\n",
        "\n",
        "    for i in range(n):\n",
        "        for j in range(n):\n",
        "            \n",
        "            count_neighbors = 0\n",
        "\n",
        "            count_neighbors+= map[i-1][j-1] if ((i-1>=0) and (j-1>=0)) else 0\n",
        "            count_neighbors+= map[i-1][j] if (i-1>=0) else 0\n",
        "            count_neighbors+= map[i-1][j+1] if  ((i-1>=0 ) and (j+1<n)) else 0\n",
        "\n",
        "            count_neighbors+= map[i][j-1] if (j-1>=0)  else 0\n",
        "            count_neighbors+= map[i][j+1] if (j+1<n) else 0\n",
        "\n",
        "            count_neighbors+= map[i+1][j-1] if ((i+1<n) and (j-1>=0)) else 0\n",
        "            count_neighbors+= map[i+1][j] if (i+1<n) else 0\n",
        "            count_neighbors+= map[i+1][j+1] if ((i+1<n) and (j+1<n)) else 0\n",
        "\n",
        "            new_map[i][j] = check_count_neighbors(map[i][j], count_neighbors)\n",
        "\n",
        "    return new_map"
      ],
      "metadata": {
        "id": "PyK-Vs1xYaYE"
      },
      "execution_count": 51,
      "outputs": []
    },
    {
      "cell_type": "code",
      "source": [
        "map = step(map)\n",
        "map"
      ],
      "metadata": {
        "id": "FjgyeFzyYabT",
        "colab": {
          "base_uri": "https://localhost:8080/"
        },
        "outputId": "d14d232e-8d1c-4e4c-85ef-b2773ef9e6c6"
      },
      "execution_count": 54,
      "outputs": [
        {
          "output_type": "execute_result",
          "data": {
            "text/plain": [
              "array([[0., 0., 0., 0., 0., 0., 0., 0., 0., 0.],\n",
              "       [0., 1., 0., 0., 0., 0., 0., 0., 0., 0.],\n",
              "       [0., 0., 1., 1., 0., 0., 0., 0., 0., 0.],\n",
              "       [0., 1., 1., 0., 0., 0., 0., 0., 0., 0.],\n",
              "       [0., 0., 0., 0., 0., 0., 0., 0., 0., 0.],\n",
              "       [0., 0., 0., 0., 0., 0., 0., 0., 0., 0.],\n",
              "       [0., 0., 0., 0., 0., 0., 0., 0., 0., 0.],\n",
              "       [0., 0., 0., 0., 0., 0., 0., 0., 0., 0.],\n",
              "       [0., 0., 0., 0., 0., 0., 0., 0., 0., 0.],\n",
              "       [0., 0., 0., 0., 0., 0., 0., 0., 0., 0.]])"
            ]
          },
          "metadata": {},
          "execution_count": 54
        }
      ]
    },
    {
      "cell_type": "code",
      "source": [
        "generations = 10\n",
        "\n",
        "for generation in range(generations):\n",
        "    if generation == 0:\n",
        "        map = create_start_map()\n",
        "    else:\n",
        "        map = step(map)\n",
        "    ax = sns.heatmap(map, annot=False,cbar=None, xticklabels=False, yticklabels=False)\n",
        "    plt.title(\"Поколение {}\".format(generation),fontsize=12)\n",
        "    plt.show()"
      ],
      "metadata": {
        "id": "0dzHp-hQYaeE",
        "colab": {
          "base_uri": "https://localhost:8080/",
          "height": 1000
        },
        "outputId": "8d4573e9-056f-4bf1-bad2-dd2516a4884a"
      },
      "execution_count": 68,
      "outputs": [
        {
          "output_type": "display_data",
          "data": {
            "text/plain": [
              "<Figure size 432x288 with 1 Axes>"
            ],
            "image/png": "[encoded data removed]"
          },
          "metadata": {}
        },
        {
          "output_type": "display_data",
          "data": {
            "text/plain": [
              "<Figure size 432x288 with 1 Axes>"
            ],
            "image/png": "[encoded data removed]"
          },
          "metadata": {}
        },
        {
          "output_type": "display_data",
          "data": {
            "text/plain": [
              "<Figure size 432x288 with 1 Axes>"
            ],
            "image/png": "[encoded data removed]"
          },
          "metadata": {}
        },
        {
          "output_type": "display_data",
          "data": {
            "text/plain": [
              "<Figure size 432x288 with 1 Axes>"
            ],
            "image/png": "[encoded data removed]"
          },
          "metadata": {}
        },
        {
          "output_type": "display_data",
          "data": {
            "text/plain": [
              "<Figure size 432x288 with 1 Axes>"
            ],
            "image/png": "[encoded data removed]"
          },
          "metadata": {}
        },
        {
          "output_type": "display_data",
          "data": {
            "text/plain": [
              "<Figure size 432x288 with 1 Axes>"
            ],
            "image/png": "[encoded data removed]"
          },
          "metadata": {}
        },
        {
          "output_type": "display_data",
          "data": {
            "text/plain": [
              "<Figure size 432x288 with 1 Axes>"
            ],
            "image/png": "[encoded data removed]"
          },
          "metadata": {}
        },
        {
          "output_type": "display_data",
          "data": {
            "text/plain": [
              "<Figure size 432x288 with 1 Axes>"
            ],
            "image/png": "[encoded data removed]"
          },
          "metadata": {}
        },
        {
          "output_type": "display_data",
          "data": {
            "text/plain": [
              "<Figure size 432x288 with 1 Axes>"
            ],
            "image/png": "[encoded data removed]"
          },
          "metadata": {}
        },
        {
          "output_type": "display_data",
          "data": {
            "text/plain": [
              "<Figure size 432x288 with 1 Axes>"
            ],
            "image/png": "[encoded data removed]"
          },
          "metadata": {}
        }
      ]
    },
    {
      "cell_type": "code",
      "source": [],
      "metadata": {
        "id": "IpvOm22CYagI"
      },
      "execution_count": null,
      "outputs": []
    },
    {
      "cell_type": "code",
      "source": [],
      "metadata": {
        "id": "aTzw_8DlYaif"
      },
      "execution_count": null,
      "outputs": []
    }
  ]
}