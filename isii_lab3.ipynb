{
  "nbformat": 4,
  "nbformat_minor": 0,
  "metadata": {
    "colab": {
      "provenance": []
    },
    "kernelspec": {
      "name": "python3",
      "display_name": "Python 3"
    },
    "language_info": {
      "name": "python"
    }
  },
  "cells": [
    {
      "cell_type": "markdown",
      "source": [
        "### 14.2"
      ],
      "metadata": {
        "id": "HAYbrLHZUmJ1"
      }
    },
    {
      "cell_type": "code",
      "execution_count": null,
      "metadata": {
        "id": "gd2eGnPlP8B0"
      },
      "outputs": [],
      "source": [
        "from sklearn.datasets import load_digits\n",
        "import matplotlib.pyplot as plt\n",
        "from sklearn.model_selection import train_test_split\n",
        "from sklearn.neighbors import KNeighborsClassifier\n",
        "from sklearn.metrics import confusion_matrix\n",
        "from sklearn.metrics import classification_report\n",
        "import pandas as pd\n",
        "import seaborn as sns"
      ]
    },
    {
      "cell_type": "code",
      "source": [
        "digits = load_digits()"
      ],
      "metadata": {
        "id": "LT-FOJlKP_EH"
      },
      "execution_count": null,
      "outputs": []
    },
    {
      "cell_type": "code",
      "source": [
        "print(digits.DESCR)"
      ],
      "metadata": {
        "colab": {
          "base_uri": "https://localhost:8080/"
        },
        "id": "XKfYIKHWQ1kQ",
        "outputId": "4da55f74-e646-4c85-901f-f9cae447c2a3"
      },
      "execution_count": null,
      "outputs": [
        {
          "output_type": "stream",
          "name": "stdout",
          "text": [
            ".. _digits_dataset:\n",
            "\n",
            "Optical recognition of handwritten digits dataset\n",
            "--------------------------------------------------\n",
            "\n",
            "**Data Set Characteristics:**\n",
            "\n",
            "    :Number of Instances: 1797\n",
            "    :Number of Attributes: 64\n",
            "    :Attribute Information: 8x8 image of integer pixels in the range 0..16.\n",
            "    :Missing Attribute Values: None\n",
            "    :Creator: E. Alpaydin (alpaydin '@' boun.edu.tr)\n",
            "    :Date: July; 1998\n",
            "\n",
            "This is a copy of the test set of the UCI ML hand-written digits datasets\n",
            "https://archive.ics.uci.edu/ml/datasets/Optical+Recognition+of+Handwritten+Digits\n",
            "\n",
            "The data set contains images of hand-written digits: 10 classes where\n",
            "each class refers to a digit.\n",
            "\n",
            "Preprocessing programs made available by NIST were used to extract\n",
            "normalized bitmaps of handwritten digits from a preprinted form. From a\n",
            "total of 43 people, 30 contributed to the training set and different 13\n",
            "to the test set. 32x32 bitmaps are divided into nonoverlapping blocks of\n",
            "4x4 and the number of on pixels are counted in each block. This generates\n",
            "an input matrix of 8x8 where each element is an integer in the range\n",
            "0..16. This reduces dimensionality and gives invariance to small\n",
            "distortions.\n",
            "\n",
            "For info on NIST preprocessing routines, see M. D. Garris, J. L. Blue, G.\n",
            "T. Candela, D. L. Dimmick, J. Geist, P. J. Grother, S. A. Janet, and C.\n",
            "L. Wilson, NIST Form-Based Handprint Recognition System, NISTIR 5469,\n",
            "1994.\n",
            "\n",
            ".. topic:: References\n",
            "\n",
            "  - C. Kaynak (1995) Methods of Combining Multiple Classifiers and Their\n",
            "    Applications to Handwritten Digit Recognition, MSc Thesis, Institute of\n",
            "    Graduate Studies in Science and Engineering, Bogazici University.\n",
            "  - E. Alpaydin, C. Kaynak (1998) Cascading Classifiers, Kybernetika.\n",
            "  - Ken Tang and Ponnuthurai N. Suganthan and Xi Yao and A. Kai Qin.\n",
            "    Linear dimensionalityreduction using relevance weighted LDA. School of\n",
            "    Electrical and Electronic Engineering Nanyang Technological University.\n",
            "    2005.\n",
            "  - Claudio Gentile. A New Approximate Maximal Margin Classification\n",
            "    Algorithm. NIPS. 2000.\n",
            "\n"
          ]
        }
      ]
    },
    {
      "cell_type": "code",
      "source": [
        "digits.data.shape"
      ],
      "metadata": {
        "colab": {
          "base_uri": "https://localhost:8080/"
        },
        "id": "KeNlWKvAQ1sK",
        "outputId": "d77a5071-ffd7-4333-a357-bcd3e3e537a4"
      },
      "execution_count": null,
      "outputs": [
        {
          "output_type": "execute_result",
          "data": {
            "text/plain": [
              "(1797, 64)"
            ]
          },
          "metadata": {},
          "execution_count": 8
        }
      ]
    },
    {
      "cell_type": "code",
      "source": [
        "digits.target.shape"
      ],
      "metadata": {
        "colab": {
          "base_uri": "https://localhost:8080/"
        },
        "id": "_3zhxRcLROTr",
        "outputId": "be2db053-72fa-4bca-812d-ec3853cb344b"
      },
      "execution_count": null,
      "outputs": [
        {
          "output_type": "execute_result",
          "data": {
            "text/plain": [
              "(1797,)"
            ]
          },
          "metadata": {},
          "execution_count": 9
        }
      ]
    },
    {
      "cell_type": "code",
      "source": [
        "print(digits.images[13])"
      ],
      "metadata": {
        "colab": {
          "base_uri": "https://localhost:8080/"
        },
        "id": "xyxvRYL9RRmq",
        "outputId": "e670274d-036d-4357-e719-3554ac802b21"
      },
      "execution_count": null,
      "outputs": [
        {
          "output_type": "stream",
          "name": "stdout",
          "text": [
            "[[ 0.  2.  9. 15. 14.  9.  3.  0.]\n",
            " [ 0.  4. 13.  8.  9. 16.  8.  0.]\n",
            " [ 0.  0.  0.  6. 14. 15.  3.  0.]\n",
            " [ 0.  0.  0. 11. 14.  2.  0.  0.]\n",
            " [ 0.  0.  0.  2. 15. 11.  0.  0.]\n",
            " [ 0.  0.  0.  0.  2. 15.  4.  0.]\n",
            " [ 0.  1.  5.  6. 13. 16.  6.  0.]\n",
            " [ 0.  2. 12. 12. 13. 11.  0.  0.]]\n"
          ]
        }
      ]
    },
    {
      "cell_type": "code",
      "source": [
        "figure, axes = plt.subplots(nrows = 4, ncols = 6, figsize=(6,4))\n",
        "\n",
        "for item in zip(axes.ravel(), digits.images, digits.target):\n",
        "    axes, image, target = item\n",
        "    axes.imshow(image, cmap=plt.cm.gray_r)\n",
        "    axes.set_xticks([]) # Удаление делений на оси x\n",
        "    axes.set_yticks([]) # Удаление делений на оси \n",
        "    axes.set_title(target)\n",
        "plt.tight_layout()"
      ],
      "metadata": {
        "colab": {
          "base_uri": "https://localhost:8080/",
          "height": 297
        },
        "id": "d435tzqnRZM8",
        "outputId": "5faf5702-aa51-4fab-b570-722bfbcd3813"
      },
      "execution_count": null,
      "outputs": [
        {
          "output_type": "display_data",
          "data": {
            "text/plain": [
              "<Figure size 432x288 with 24 Axes>"
            ],
            "image/png": "[encoded data removed]"
          },
          "metadata": {}
        }
      ]
    },
    {
      "cell_type": "code",
      "source": [
        "X_train, X_test, y_train, y_test = train_test_split(digits.data, digits.target, random_state=11, test_size=0.20)"
      ],
      "metadata": {
        "id": "tNS84N0dSTv_"
      },
      "execution_count": null,
      "outputs": []
    },
    {
      "cell_type": "code",
      "source": [
        "X_train.shape"
      ],
      "metadata": {
        "colab": {
          "base_uri": "https://localhost:8080/"
        },
        "id": "v_Mk93jwTTrJ",
        "outputId": "7d5dc2ac-01a5-486f-dd62-4be587b39e85"
      },
      "execution_count": null,
      "outputs": [
        {
          "output_type": "execute_result",
          "data": {
            "text/plain": [
              "(1437, 64)"
            ]
          },
          "metadata": {},
          "execution_count": 23
        }
      ]
    },
    {
      "cell_type": "code",
      "source": [
        "X_test.shape"
      ],
      "metadata": {
        "colab": {
          "base_uri": "https://localhost:8080/"
        },
        "id": "vxCdBoWdTeFI",
        "outputId": "2bd46472-c588-4aa3-a19b-e52bb0c20b5a"
      },
      "execution_count": null,
      "outputs": [
        {
          "output_type": "execute_result",
          "data": {
            "text/plain": [
              "(360, 64)"
            ]
          },
          "metadata": {},
          "execution_count": 24
        }
      ]
    },
    {
      "cell_type": "code",
      "source": [
        "knn = KNeighborsClassifier()\n",
        "knn.fit(X=X_train, y=y_train)"
      ],
      "metadata": {
        "colab": {
          "base_uri": "https://localhost:8080/"
        },
        "id": "MAuuZrIqTf0P",
        "outputId": "efc8b9a8-ca79-4e2b-f29a-449594d5c80e"
      },
      "execution_count": null,
      "outputs": [
        {
          "output_type": "execute_result",
          "data": {
            "text/plain": [
              "KNeighborsClassifier()"
            ]
          },
          "metadata": {},
          "execution_count": 27
        }
      ]
    },
    {
      "cell_type": "code",
      "source": [
        "knn.get_params()"
      ],
      "metadata": {
        "colab": {
          "base_uri": "https://localhost:8080/"
        },
        "id": "ZNZpFGCXTwnd",
        "outputId": "156673d3-86dc-421e-e1ea-b40311d3ad0f"
      },
      "execution_count": null,
      "outputs": [
        {
          "output_type": "execute_result",
          "data": {
            "text/plain": [
              "{'algorithm': 'auto',\n",
              " 'leaf_size': 30,\n",
              " 'metric': 'minkowski',\n",
              " 'metric_params': None,\n",
              " 'n_jobs': None,\n",
              " 'n_neighbors': 5,\n",
              " 'p': 2,\n",
              " 'weights': 'uniform'}"
            ]
          },
          "metadata": {},
          "execution_count": 29
        }
      ]
    },
    {
      "cell_type": "code",
      "source": [
        "predicted = knn.predict(X=X_test)\n",
        "expected = y_test"
      ],
      "metadata": {
        "id": "2Id9HO1CUEiu"
      },
      "execution_count": null,
      "outputs": []
    },
    {
      "cell_type": "code",
      "source": [
        "predicted[:20]"
      ],
      "metadata": {
        "colab": {
          "base_uri": "https://localhost:8080/"
        },
        "id": "VWLUn3PQUNpv",
        "outputId": "d00b1c17-ef01-403d-f04e-a7ec6d7c7965"
      },
      "execution_count": null,
      "outputs": [
        {
          "output_type": "execute_result",
          "data": {
            "text/plain": [
              "array([0, 4, 9, 9, 3, 1, 4, 1, 5, 0, 4, 9, 4, 1, 5, 3, 3, 8, 5, 6])"
            ]
          },
          "metadata": {},
          "execution_count": 31
        }
      ]
    },
    {
      "cell_type": "code",
      "source": [
        "expected[:20]"
      ],
      "metadata": {
        "colab": {
          "base_uri": "https://localhost:8080/"
        },
        "id": "lQfkcA1YUO51",
        "outputId": "d3f21768-d68a-489a-d8a7-54c2538aff25"
      },
      "execution_count": null,
      "outputs": [
        {
          "output_type": "execute_result",
          "data": {
            "text/plain": [
              "array([0, 4, 9, 9, 3, 1, 4, 1, 5, 0, 4, 9, 4, 1, 5, 3, 3, 8, 3, 6])"
            ]
          },
          "metadata": {},
          "execution_count": 32
        }
      ]
    },
    {
      "cell_type": "code",
      "source": [
        "wrong = [(p, e) for (p, e) in zip(predicted, expected) if p != e]\n",
        "wrong"
      ],
      "metadata": {
        "colab": {
          "base_uri": "https://localhost:8080/"
        },
        "id": "vi_eV5RIUWZ9",
        "outputId": "cf0f97ce-e0f0-4518-c051-7b16d47a08c4"
      },
      "execution_count": null,
      "outputs": [
        {
          "output_type": "execute_result",
          "data": {
            "text/plain": [
              "[(5, 3), (8, 9), (4, 9), (7, 3), (7, 4)]"
            ]
          },
          "metadata": {},
          "execution_count": 33
        }
      ]
    },
    {
      "cell_type": "markdown",
      "source": [
        "### 14.3"
      ],
      "metadata": {
        "id": "h6KmLK_PUjiR"
      }
    },
    {
      "cell_type": "code",
      "source": [
        "print(f'{knn.score(X_test, y_test):.2%}')"
      ],
      "metadata": {
        "colab": {
          "base_uri": "https://localhost:8080/"
        },
        "id": "hixYLP-9UWcM",
        "outputId": "f181cb59-dbcb-46d2-a395-83d9b3d5d57b"
      },
      "execution_count": null,
      "outputs": [
        {
          "output_type": "stream",
          "name": "stdout",
          "text": [
            "98.61%\n"
          ]
        }
      ]
    },
    {
      "cell_type": "code",
      "source": [
        "confusion = confusion_matrix(y_true=expected, y_pred=predicted)\n",
        "confusion"
      ],
      "metadata": {
        "colab": {
          "base_uri": "https://localhost:8080/"
        },
        "id": "AiqydIJ0UWel",
        "outputId": "65f15590-9412-4b4f-c210-598379335522"
      },
      "execution_count": null,
      "outputs": [
        {
          "output_type": "execute_result",
          "data": {
            "text/plain": [
              "array([[38,  0,  0,  0,  0,  0,  0,  0,  0,  0],\n",
              "       [ 0, 37,  0,  0,  0,  0,  0,  0,  0,  0],\n",
              "       [ 0,  0, 39,  0,  0,  0,  0,  0,  0,  0],\n",
              "       [ 0,  0,  0, 39,  0,  1,  0,  1,  0,  0],\n",
              "       [ 0,  0,  0,  0, 40,  0,  0,  1,  0,  0],\n",
              "       [ 0,  0,  0,  0,  0, 27,  0,  0,  0,  0],\n",
              "       [ 0,  0,  0,  0,  0,  0, 30,  0,  0,  0],\n",
              "       [ 0,  0,  0,  0,  0,  0,  0, 36,  0,  0],\n",
              "       [ 0,  0,  0,  0,  0,  0,  0,  0, 34,  0],\n",
              "       [ 0,  0,  0,  0,  1,  0,  0,  0,  1, 35]])"
            ]
          },
          "metadata": {},
          "execution_count": 38
        }
      ]
    },
    {
      "cell_type": "code",
      "source": [
        "names = [str(digit) for digit in digits.target_names]\n",
        "print(classification_report(expected, predicted, target_names=names))"
      ],
      "metadata": {
        "colab": {
          "base_uri": "https://localhost:8080/"
        },
        "id": "oTmn2C05UWiH",
        "outputId": "20e352b9-f8e3-4c42-bc1f-99982c632857"
      },
      "execution_count": null,
      "outputs": [
        {
          "output_type": "stream",
          "name": "stdout",
          "text": [
            "              precision    recall  f1-score   support\n",
            "\n",
            "           0       1.00      1.00      1.00        38\n",
            "           1       1.00      1.00      1.00        37\n",
            "           2       1.00      1.00      1.00        39\n",
            "           3       1.00      0.95      0.97        41\n",
            "           4       0.98      0.98      0.98        41\n",
            "           5       0.96      1.00      0.98        27\n",
            "           6       1.00      1.00      1.00        30\n",
            "           7       0.95      1.00      0.97        36\n",
            "           8       0.97      1.00      0.99        34\n",
            "           9       1.00      0.95      0.97        37\n",
            "\n",
            "    accuracy                           0.99       360\n",
            "   macro avg       0.99      0.99      0.99       360\n",
            "weighted avg       0.99      0.99      0.99       360\n",
            "\n"
          ]
        }
      ]
    },
    {
      "cell_type": "code",
      "source": [
        "confusion_df = pd.DataFrame(confusion, index=range(10), columns=range(10))\n",
        "axes = sns.heatmap(confusion_df, annot=True, cmap='nipy_spectral_r')"
      ],
      "metadata": {
        "colab": {
          "base_uri": "https://localhost:8080/",
          "height": 269
        },
        "id": "Ul2wHhWZVhpv",
        "outputId": "9905f71d-9049-464d-eadf-5f92e221edb8"
      },
      "execution_count": null,
      "outputs": [
        {
          "output_type": "display_data",
          "data": {
            "text/plain": [
              "<Figure size 432x288 with 2 Axes>"
            ],
            "image/png": "[encoded data removed]"
          },
          "metadata": {
            "needs_background": "light"
          }
        }
      ]
    },
    {
      "cell_type": "code",
      "source": [
        "from sklearn.model_selection import KFold\n",
        "from sklearn.model_selection import cross_val_score\n",
        "from sklearn.svm import SVC\n",
        "from sklearn.naive_bayes import GaussianNB"
      ],
      "metadata": {
        "id": "Zjc-b3JSWDar"
      },
      "execution_count": null,
      "outputs": []
    },
    {
      "cell_type": "code",
      "source": [
        "kfold = KFold(n_splits=10, random_state=11, shuffle=True)\n",
        "scores = cross_val_score(estimator=knn, X=digits.data, y=digits.target, cv=kfold)"
      ],
      "metadata": {
        "id": "tN_Lf3phWSA6"
      },
      "execution_count": null,
      "outputs": []
    },
    {
      "cell_type": "code",
      "source": [
        "scores"
      ],
      "metadata": {
        "colab": {
          "base_uri": "https://localhost:8080/"
        },
        "id": "eOHf-NHFWVaw",
        "outputId": "bae7e6fb-ce11-4947-a0af-e486e8d55e78"
      },
      "execution_count": null,
      "outputs": [
        {
          "output_type": "execute_result",
          "data": {
            "text/plain": [
              "array([0.97777778, 0.99444444, 0.98888889, 0.97777778, 0.98888889,\n",
              "       0.99444444, 0.97777778, 0.98882682, 1.        , 0.98882682])"
            ]
          },
          "metadata": {},
          "execution_count": 49
        }
      ]
    },
    {
      "cell_type": "code",
      "source": [
        "print(f'Mean accuracy: {scores.mean():.2%}')\n",
        "print(f'Accuracy standard deviation: {scores.std():.2%}')"
      ],
      "metadata": {
        "colab": {
          "base_uri": "https://localhost:8080/"
        },
        "id": "i9fQbPalWpnE",
        "outputId": "f6c17248-34b4-465b-d5fb-60ce1caae02b"
      },
      "execution_count": null,
      "outputs": [
        {
          "output_type": "stream",
          "name": "stdout",
          "text": [
            "Mean accuracy: 98.78%\n",
            "Accuracy standard deviation: 0.74%\n"
          ]
        }
      ]
    },
    {
      "cell_type": "code",
      "source": [
        "estimators = {\n",
        "    'KNeighborsClassifier': knn, \n",
        "    'SVC': SVC(gamma='scale'),\n",
        "    'GaussianNB': GaussianNB()}"
      ],
      "metadata": {
        "id": "cVeiJyIBWxcr"
      },
      "execution_count": null,
      "outputs": []
    },
    {
      "cell_type": "code",
      "source": [
        "for estimator_name, estimator_object in estimators.items():\n",
        "    kfold = KFold(n_splits=10, random_state=11, shuffle=True)\n",
        "    scores = cross_val_score(estimator=estimator_object, \n",
        "    X=digits.data, y=digits.target, cv=kfold)\n",
        "    print(f'{estimator_name:>20}: ' + f'mean accuracy={scores.mean():.2%}; ' +\n",
        "          f'standard deviation={scores.std():.2%}')"
      ],
      "metadata": {
        "colab": {
          "base_uri": "https://localhost:8080/"
        },
        "id": "2pbRORMfXJxr",
        "outputId": "b9e86514-1b93-4e20-c075-5a799d9cfd8f"
      },
      "execution_count": null,
      "outputs": [
        {
          "output_type": "stream",
          "name": "stdout",
          "text": [
            "KNeighborsClassifier: mean accuracy=98.78%; standard deviation=0.74%\n",
            "                 SVC: mean accuracy=98.72%; standard deviation=0.79%\n",
            "          GaussianNB: mean accuracy=84.48%; standard deviation=3.47%\n"
          ]
        }
      ]
    },
    {
      "cell_type": "code",
      "source": [
        "for k in range(1, 20, 2):\n",
        "    kfold = KFold(n_splits=10, random_state=11, shuffle=True)\n",
        "    knn = KNeighborsClassifier(n_neighbors=k)\n",
        "    scores = cross_val_score(estimator=knn, \n",
        "    X=digits.data, y=digits.target, cv=kfold)\n",
        "    print(f'k={k:<2}; mean accuracy={scores.mean():.2%}; ' + f'standard deviation={scores.std():.2%}')"
      ],
      "metadata": {
        "colab": {
          "base_uri": "https://localhost:8080/"
        },
        "id": "LtGevmAVX03l",
        "outputId": "76c25717-5054-4004-cfbb-170539d7d63f"
      },
      "execution_count": null,
      "outputs": [
        {
          "output_type": "stream",
          "name": "stdout",
          "text": [
            "k=1 ; mean accuracy=98.83%; standard deviation=0.58%\n",
            "k=3 ; mean accuracy=98.83%; standard deviation=0.72%\n",
            "k=5 ; mean accuracy=98.78%; standard deviation=0.74%\n",
            "k=7 ; mean accuracy=98.44%; standard deviation=0.96%\n",
            "k=9 ; mean accuracy=98.39%; standard deviation=0.80%\n",
            "k=11; mean accuracy=98.33%; standard deviation=0.90%\n",
            "k=13; mean accuracy=97.89%; standard deviation=0.89%\n",
            "k=15; mean accuracy=97.83%; standard deviation=0.95%\n",
            "k=17; mean accuracy=97.50%; standard deviation=1.00%\n",
            "k=19; mean accuracy=97.66%; standard deviation=0.96%\n"
          ]
        }
      ]
    },
    {
      "cell_type": "code",
      "source": [],
      "metadata": {
        "id": "zEEbuPlPX059"
      },
      "execution_count": null,
      "outputs": []
    },
    {
      "cell_type": "code",
      "source": [],
      "metadata": {
        "id": "3UFvb8F-X08Y"
      },
      "execution_count": null,
      "outputs": []
    },
    {
      "cell_type": "code",
      "source": [],
      "metadata": {
        "id": "ktcGRGf_X0_5"
      },
      "execution_count": null,
      "outputs": []
    }
  ]
}